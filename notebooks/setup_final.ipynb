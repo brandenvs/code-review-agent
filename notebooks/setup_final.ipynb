{
 "cells": [
  {
   "cell_type": "markdown",
   "metadata": {},
   "source": [
    "# Final Setup for Automating Code Reviews\n",
    "\n",
    "> 3-Component agent"
   ]
  },
  {
   "attachments": {
    "image-2.png": {
     "image/png": "[encoded data removed]"
    },
    "image.png": {
     "image/png": "[encoded data removed]"
    }
   },
   "cell_type": "markdown",
   "metadata": {},
   "source": [
    "![image.png](attachment:image.png)\n",
    "\n",
    "![image-2.png](attachment:image-2.png)"
   ]
  },
  {
   "cell_type": "markdown",
   "metadata": {},
   "source": [
    "## Tasks\n"
   ]
  },
  {
   "cell_type": "markdown",
   "metadata": {},
   "source": [
    "### Schema"
   ]
  },
  {
   "cell_type": "code",
   "execution_count": null,
   "metadata": {
    "vscode": {
     "languageId": "sql"
    }
   },
   "outputs": [],
   "source": [
    "-- Drops all tables\n",
    "\n",
    "DROP TABLE tasks CASCADE;\n",
    "\n",
    "\n",
    "-- Creates\n",
    "\n",
    "CREATE TABLE tasks (\n",
    "    id SERIAL PRIMARY KEY,\n",
    "    task_name TEXT NOT NULL,\n",
    "    task_content TEXT NOT NULL,\n",
    "    task_instructions TEXT NOT NULL,\n",
    "    model_answer_1 TEXT NOT NULL,\n",
    "    model_answer_2 TEXT NOT NULL,\n",
    "    metadata JSONB\n",
    ");\n",
    "\n",
    "CREATE TABLE reviews (\n",
    "    id SERIAL PRIMARY KEY,\n",
    "    task_id INT NOT NULL,\n",
    "    task_name TEXT NOT NULL,\n",
    "    review_content TEXT NOT NULL,\n",
    "    submitted_content_1 TEXT NOT NULL,\n",
    "    submitted_content_2 TEXT NOT NULL,\n",
    "    metadata JSONB,\n",
    "    FOREIGN KEY (task_id) REFERENCES tasks (id) ON DELETE CASCADE\n",
    ");\n"
   ]
  },
  {
   "cell_type": "markdown",
   "metadata": {},
   "source": [
    "## Vectorisers\n"
   ]
  },
  {
   "cell_type": "markdown",
   "metadata": {},
   "source": [
    "### Task Vectorisers"
   ]
  },
  {
   "cell_type": "code",
   "execution_count": null,
   "metadata": {
    "vscode": {
     "languageId": "sql"
    }
   },
   "outputs": [],
   "source": [
    "SELECT ai.create_vectorizer(   \n",
    "    'tasks'::regclass,\n",
    "    formatting => ai.formatting_python_template('$chunk'),\n",
    "    embedding => ai.embedding_ollama('nomic-embed-text', 768),\n",
    "    chunking => ai.chunking_recursive_character_text_splitter('task_content'),\n",
    "    destination => 'task_contents_embedding'\n",
    ");\n",
    "\n",
    "SELECT ai.create_vectorizer(   \n",
    "    'tasks'::regclass,\n",
    "    formatting => ai.formatting_python_template('$chunk'),\n",
    "    embedding => ai.embedding_ollama('nomic-embed-text', 768),\n",
    "    chunking => ai.chunking_recursive_character_text_splitter('task_instructions'),\n",
    "    destination => 'task_instructions_embedding'\n",
    ");\n",
    "\n",
    "SELECT ai.create_vectorizer(   \n",
    "    'tasks'::regclass,\n",
    "    formatting => ai.formatting_python_template('$chunk'),\n",
    "    embedding => ai.embedding_ollama('codellama:13b-instruct', 5120),\n",
    "    chunking => ai.chunking_recursive_character_text_splitter('model_answer_1', \n",
    "        chunk_size => 1024, \n",
    "        chunk_overlap => 256\n",
    "    ),\n",
    "    destination => 'task_model_answer_1_embedding'\n",
    ");\n",
    "\n",
    "SELECT ai.create_vectorizer(   \n",
    "    'tasks'::regclass,\n",
    "    formatting => ai.formatting_python_template('$chunk'),\n",
    "    embedding => ai.embedding_ollama('codellama:13b-instruct', 5120),\n",
    "    chunking => ai.chunking_recursive_character_text_splitter('model_answer_2', \n",
    "        chunk_size => 1024, \n",
    "        chunk_overlap => 256\n",
    "    ),\n",
    "    destination => 'task_model_answer_2_embedding'\n",
    ");\n",
    "\n",
    "-- Vectoriser status\n",
    "SELECT * FROM ai.vectorizer_status;\n"
   ]
  },
  {
   "cell_type": "markdown",
   "metadata": {},
   "source": [
    "### Review Vectorisers"
   ]
  },
  {
   "cell_type": "code",
   "execution_count": null,
   "metadata": {
    "vscode": {
     "languageId": "sql"
    }
   },
   "outputs": [],
   "source": [
    "SELECT ai.create_vectorizer(   \n",
    "    'reviews'::regclass,\n",
    "    formatting => ai.formatting_python_template('$chunk'),\n",
    "    embedding => ai.embedding_ollama('nomic-embed-text', 768),\n",
    "    chunking => ai.chunking_recursive_character_text_splitter('review_content', \n",
    "        chunk_size => 512, \n",
    "        chunk_overlap => 256\n",
    "    ),\n",
    "    destination => 'review_contents_embedding'\n",
    ");\n",
    "\n",
    "SELECT ai.create_vectorizer(   \n",
    "    'reviews'::regclass,\n",
    "    formatting => ai.formatting_python_template('$chunk'),\n",
    "    embedding => ai.embedding_ollama('codellama:13b-instruct', 5120),\n",
    "    chunking => ai.chunking_recursive_character_text_splitter('submitted_content_1'),\n",
    "    destination => 'submitted_content_1_embedding'\n",
    ");\n",
    "\n",
    "SELECT ai.create_vectorizer(   \n",
    "    'reviews'::regclass,\n",
    "    formatting => ai.formatting_python_template('$chunk'),\n",
    "    embedding => ai.embedding_ollama('codellama:13b-instruct', 5120),\n",
    "    chunking => ai.chunking_recursive_character_text_splitter('submitted_content_2'),\n",
    "    destination => 'submitted_content_2_embedding'\n",
    ");\n",
    "\n",
    "SELECT * FROM ai.vectorizer_status;\n"
   ]
  },
  {
   "cell_type": "code",
   "execution_count": null,
   "metadata": {
    "vscode": {
     "languageId": "sql"
    }
   },
   "outputs": [],
   "source": [
    "-- Vectoriser execute\n",
    "SELECT ai.execute_vectorizer(125);\n",
    "\n",
    "-- Vectoriser status\n",
    "select * from ai.vectorizer_status;\n"
   ]
  },
  {
   "cell_type": "markdown",
   "metadata": {},
   "source": [
    "## RAG Functions"
   ]
  },
  {
   "cell_type": "markdown",
   "metadata": {},
   "source": [
    "## Basic - Code Review Generation"
   ]
  },
  {
   "cell_type": "code",
   "execution_count": null,
   "metadata": {
    "vscode": {
     "languageId": "sql"
    }
   },
   "outputs": [],
   "source": [
    "CREATE OR REPLACE FUNCTION basic_generate_review(query_code_1 TEXT, query_code_2 TEXT, task_title TEXT, file_name TEXT)\n",
    "RETURNS TEXT AS $$\n",
    "DECLARE\n",
    "  context_chunks TEXT;\n",
    "  response TEXT;\n",
    "BEGIN\n",
    "  WITH relevant_info AS (\n",
    "    (SELECT \n",
    "      'Task Contexts' AS source,\n",
    "      t1.task_name,\n",
    "      t1.chunk, t2.chunk\n",
    "      FROM task_contents_embedding t1\n",
    "      INNER JOIN task_instructions_embedding t2\n",
    "      ON t1.task_name = t2.task_name\n",
    "      ORDER BY t1.embedding <=> ai.ollama_embed('nomic-embed-text', task_title)\n",
    "      LIMIT 1\n",
    "    )\n",
    "    (SELECT\n",
    "      'Model Answer Contexts' AS source,\n",
    "      t1.task_name,\n",
    "      t1.chunk, t2.chunk\n",
    "      FROM task_model_answer_1_embedding t1\n",
    "      INNER JOIN task_model_answer_2_embedding t2\n",
    "      ON t1.task_name = t2.task_name\n",
    "      ORDER BY t1.embedding <=> ai.ollama_embed('codellama:13b-instruct', query_code_1)\n",
    "      LIMIT 1\n",
    "    )\n",
    "    (SELECT \n",
    "      'Review Context' AS source,\n",
    "      chunk\n",
    "      FROM review_contents_embedding\n",
    "      ORDER BY embedding <=> ai.ollama_embed('nomic-embed-text', task_title)\n",
    "      LIMIT 1\n",
    "    )\n",
    "    (SELECT\n",
    "      'Submission Answer Contexts' AS source,\n",
    "      t1.task_name,\n",
    "      t1.chunk, t2.chunk\n",
    "      FROM submitted_content_1_embedding t1\n",
    "      INNER JOIN submitted_content_2_embedding t2\n",
    "      ON t1.task_name = t2.task_name\n",
    "      ORDER BY t2.embedding <=> ai.ollama_embed('codellama:13b-instruct', query_code_1 || E'\\n\\n' || query_code_2)\n",
    "      LIMIT 1\n",
    "    )\n",
    "  )\n",
    "  SELECT string_agg(source || ': ' || chunk, E'\\n') INTO context_chunks\n",
    "  FROM relevant_info;\n",
    "\n",
    "  SELECT ai.ollama_chat_complete(\n",
    "    'llama3',\n",
    "    jsonb_build_array(\n",
    "      jsonb_build_object(\n",
    "        'role', 'system', \n",
    "        'content', 'You are an expert code reviewer. Your task is to review the given code (query_text) and ensure it matches the task instructions. Provide a detailed review, highlighting strengths, areas for improvement, and any discrepancies between the code and the task requirements.'\n",
    "      ),\n",
    "      jsonb_build_object(\n",
    "        'role', 'user',\n",
    "        'content', 'Task Name: ' || task_title || E'\\n\\n' ||\n",
    "        'File name:\\n' || file_name || E'\\n\\n' ||\n",
    "        'Code to review:\\n' || query_text_1 || query_text_2 || E'\\n\\n' ||\n",
    "        'Use the following context for your review:\\n' || context_chunks || E'\\n\\n' ||\n",
    "        'Please provide a comprehensive code review, focusing on how well the code matches the task instructions. Include specific suggestions for improvement if necessary.'\n",
    "      )\n",
    "    )\n",
    "  )->'message'->>'content' INTO response;\n",
    "\n",
    "  RETURN response;\n",
    "END;\n",
    "$$ LANGUAGE plpgsql;"
   ]
  },
  {
   "cell_type": "markdown",
   "metadata": {},
   "source": [
    "## Advanced - Code Review Generation\n"
   ]
  },
  {
   "cell_type": "code",
   "execution_count": null,
   "metadata": {
    "vscode": {
     "languageId": "sql"
    }
   },
   "outputs": [],
   "source": [
    "CREATE OR REPLACE FUNCTION generate_code_review(query_code TEXT, task_title TEXT)\n",
    "RETURNS TEXT AS $$\n",
    "DECLARE\n",
    "    context_chunks TEXT;\n",
    "    response TEXT;\n",
    "BEGIN\n",
    "    WITH relevant_info AS (\n",
    "        -- Task Context and Instructions (lower weight)\n",
    "        (SELECT \n",
    "            t1.task_name,\n",
    "            '===== Task: ' || t1.task_name || ' =====' || E'\\n'\n",
    "            || 'Task Context:\\n' || t1.chunk || E'\\n'\n",
    "            || 'Instructions:\\n' || t2.chunk AS chunk,\n",
    "            (t1.embedding <=> ai.ollama_embed('nomic-embed-text', task_title)) * 0.8 AS relevance_score\n",
    "        FROM task_contents_embedding t1\n",
    "        INNER JOIN task_instructions_embedding t2\n",
    "        ON t1.task_name = t2.task_name\n",
    "        LIMIT 2\n",
    "        )\n",
    "\n",
    "        UNION ALL\n",
    "\n",
    "        -- Model Answer Context (lower weight)\n",
    "        (SELECT\n",
    "            t1.task_name,\n",
    "            '===== Model Answer =====' || E'\\n' || t1.chunk AS chunk,\n",
    "            (t1.embedding <=> ai.ollama_embed('codellama:13b-instruct', query_code)) * 0.6 AS relevance_score\n",
    "        FROM task_model_answer_1_embedding t1\n",
    "        LIMIT 1\n",
    "        )\n",
    "\n",
    "        UNION ALL\n",
    "\n",
    "        -- Review Context (medium weight)\n",
    "        (SELECT \n",
    "            '' AS task_name,\n",
    "            '===== Review Guidelines =====' || E'\\n' || chunk AS chunk,\n",
    "            (embedding <=> ai.ollama_embed('nomic-embed-text', task_title)) * 1.0 AS relevance_score\n",
    "        FROM review_contents_embedding\n",
    "        LIMIT 1\n",
    "        )\n",
    "    )\n",
    "    SELECT string_agg(chunk, E'\\n\\n' ORDER BY relevance_score DESC)\n",
    "    INTO context_chunks\n",
    "    FROM (\n",
    "        SELECT chunk, relevance_score\n",
    "        FROM relevant_info\n",
    "        ORDER BY relevance_score DESC\n",
    "        LIMIT 5  -- Adjust this limit based on your needs\n",
    "    ) AS top_chunks;\n",
    "\n",
    "    -- Validate the context_chunks to ensure it's not empty\n",
    "    IF context_chunks IS NULL OR context_chunks = '' THEN\n",
    "        RAISE EXCEPTION 'No relevant context found for the provided query_code and task_title.';\n",
    "    END IF;\n",
    "\n",
    "    -- Generate the review using the combined context\n",
    "    SELECT ai.ollama_chat_complete(\n",
    "        'llama3',\n",
    "        jsonb_build_array(\n",
    "            jsonb_build_object(\n",
    "                'role', 'system',\n",
    "                'content', 'You are Branden, an expert code reviewer. Provide a detailed, actionable review of the given code, focusing on its quality, efficiency, and alignment with the task objectives. Be specific in your analysis and suggestions.'\n",
    "            ),\n",
    "            jsonb_build_object(\n",
    "                'role', 'user',\n",
    "                'content',\n",
    "                'Task Title: ' || task_title || E'\\n\\n' ||\n",
    "                'Code to Review:\\n' || query_code || E'\\n\\n' ||\n",
    "                'Context:\\n' || context_chunks || E'\\n\\n' ||\n",
    "                'Review Instructions:\\n' ||\n",
    "                '1. Efficiency: Rate and provide a detailed explanation.\\n' ||\n",
    "                '2. Completeness: Rate and check against all task objectives.\\n' ||\n",
    "                '3. Style: Rate and reference specific style guidelines.\\n' ||\n",
    "                '4. Documentation: Rate and suggest improvements.\\n' ||\n",
    "                'For each category, provide:\\n' ||\n",
    "                '1. Specific examples from the code\\n' ||\n",
    "                '2. Detailed suggestions for improvement\\n' ||\n",
    "                '3. References to best practices or task objectives\\n' ||\n",
    "                'Structure your review as follows:\\n' ||\n",
    "                'Positive:\\n' ||\n",
    "                'Highlight specific strengths, referencing code snippets and task objectives.\\n\\n' ||\n",
    "                'Improve:\\n' ||\n",
    "                'Provide actionable feedback with code examples. Address any misalignments with task objectives.\\n\\n' ||\n",
    "                'Overall:\\n' ||\n",
    "                'Summarize the code''s quality and alignment with task objectives. Provide a holistic evaluation.\\n\\n' ||\n",
    "                'Ensure all feedback is specific, actionable, and tied directly to the provided code and task objectives.\\n' ||\n",
    "                'Include code snippets for all suggestions and highlight both good practices and areas for improvement.\\n\\n' ||\n",
    "                'Explicitly address any discrepancies between the submission and task requirements.\\n'\n",
    "            )\n",
    "        ),\n",
    "        host => 'http://ollama:11434'\n",
    "    ) -> 'message' ->> 'content' INTO response;\n",
    "    RETURN response;\n",
    "\n",
    "END;\n",
    "$$ LANGUAGE plpgsql;"
   ]
  },
  {
   "cell_type": "markdown",
   "metadata": {},
   "source": [
    "## Basic - General Interaction"
   ]
  },
  {
   "cell_type": "markdown",
   "metadata": {},
   "source": [
    "### Content"
   ]
  },
  {
   "cell_type": "code",
   "execution_count": null,
   "metadata": {
    "vscode": {
     "languageId": "sql"
    }
   },
   "outputs": [],
   "source": [
    "-- Function is used to generate BASIC responses \n",
    "-- Context is `task content` and `task instructions` as context\n",
    "\n",
    "CREATE FUNCTION basic_general_response(query_text TEXT)\n",
    "RETURNS TEXT AS $$ -- Return type\n",
    "\n",
    "-- Global variables\n",
    "DECLARE\n",
    "    context_chunks TEXT;\n",
    "    response TEXT;\n",
    "\n",
    "BEGIN\n",
    "    -- Get `task content` data\n",
    "    WITH relevant_task_content AS (\n",
    "        SELECT task_name, chunk\n",
    "        FROM task_contents_embedding\n",
    "        ORDER BY embedding <=> ai.ollama_embed('nomic-embed-text', query_text)\n",
    "    ),\n",
    "\n",
    "    -- Get `task instruction` data\n",
    "    relevant_task_instructions AS\n",
    "    (\n",
    "        SELECT task_name, chunk\n",
    "        FROM task_instructions_embedding\n",
    "        ORDER BY embedding <=> ai.ollama_embed('nomic-embed-text', query_text)\n",
    "    )\n",
    "\n",
    "    -- Collect and pass `relevant data` to `context chunks`\n",
    "    SELECT string_agg(chunk, E'\\n') \n",
    "    INTO context_chunks\n",
    "    FROM (\n",
    "        SELECT * FROM relevant_task_content\n",
    "        UNION ALL\n",
    "        SELECT * FROM relevant_task_instructions\n",
    "    ) AS relevant_data;\n",
    "\n",
    "    -- Generate response using llama3\n",
    "    SELECT ai.ollama_chat_complete\n",
    "    ( 'llama3'\n",
    "    , jsonb_build_array\n",
    "        ( jsonb_build_object('role', 'system', 'content', 'you are a helpful assistant')\n",
    "        , jsonb_build_object\n",
    "        ('role', 'user'\n",
    "        , 'content', query_text || E'\\nUse the following context to respond.\\n' || context_chunks\n",
    "        )\n",
    "        )\n",
    "    )->'message'->>'content' INTO response; -- Output\n",
    "\n",
    "    RETURN response;\n",
    "END;\n",
    "\n",
    "$$  LANGUAGE plpgsql;\n"
   ]
  },
  {
   "cell_type": "markdown",
   "metadata": {},
   "source": [
    "### Full mockup response\n"
   ]
  },
  {
   "cell_type": "code",
   "execution_count": null,
   "metadata": {
    "vscode": {
     "languageId": "sql"
    }
   },
   "outputs": [],
   "source": [
    "CREATE OR REPLACE FUNCTION full_general_response(query_text TEXT)\n",
    "RETURNS TEXT AS $$\n",
    "\n",
    "DECLARE\n",
    "    context_chunks TEXT;\n",
    "    response TEXT;\n",
    "\n",
    "BEGIN\n",
    "    WITH relevant_info AS (\n",
    "    (SELECT \n",
    "        'Task Contexts' AS source,\n",
    "        t1.task_name,\n",
    "        t1.chunk, t2.chunk\n",
    "        FROM task_contents_embedding t1\n",
    "        INNER JOIN task_instructions_embedding t2\n",
    "        ON t1.task_name = t2.task_name\n",
    "        ORDER BY t1.embedding <=> ai.ollama_embed('nomic-embed-text', task_title)\n",
    "        LIMIT 1\n",
    "        )\n",
    "        UNION ALL\n",
    "        (SELECT\n",
    "        'Model Answer Contexts' AS source,\n",
    "        t1.task_name,\n",
    "        t1.chunk, t2.chunk\n",
    "        FROM task_model_answer_1_embedding t1\n",
    "        INNER JOIN task_model_answer_2_embedding t2\n",
    "        ON t1.task_name = t2.task_name\n",
    "        ORDER BY t1.embedding <=> ai.ollama_embed('codellama:13b-instruct', query_code_1)\n",
    "        LIMIT 1\n",
    "        )\n",
    "        UNION ALL\n",
    "        (SELECT \n",
    "        'Review Context' AS source,\n",
    "        chunk\n",
    "        FROM review_contents_embedding\n",
    "        ORDER BY embedding <=> ai.ollama_embed('nomic-embed-text', task_title)\n",
    "        LIMIT 1\n",
    "        )\n",
    "        UNION ALL\n",
    "        (SELECT\n",
    "        'Submission Answer Contexts' AS source,\n",
    "        t1.task_name,\n",
    "        t1.chunk, t2.chunk\n",
    "        FROM submitted_content_1_embedding t1\n",
    "        INNER JOIN submitted_content_2_embedding t2\n",
    "        ON t1.task_name = t2.task_name\n",
    "        ORDER BY t1.embedding <=> ai.ollama_embed('codellama:13b-instruct', query_code_1 || E'\\n\\n' || query_code_2)\n",
    "        LIMIT 1\n",
    "        )\n",
    "    )\n",
    "    SELECT string_agg(\n",
    "        source || E':\\n' || chunk, \n",
    "        E'\\n\\n'\n",
    "    ) \n",
    "    INTO context_chunks\n",
    "    FROM relevant_info;\n",
    "\n",
    "    SELECT ai.ollama_chat_complete(\n",
    "        'llama3',\n",
    "        jsonb_build_array(\n",
    "        jsonb_build_object('role', 'system', 'content', 'You are a helpful code reviewer. Provide accurate and concise answers based on the given context.'),\n",
    "        jsonb_build_object(\n",
    "            'role', 'user',\n",
    "            'content', query_text || E'\\n\\nUse the following context to respond:\\n' || context_chunks\n",
    "        )\n",
    "        )\n",
    "    )->'message'->>'content' INTO response;\n",
    "\n",
    "    RETURN response;\n",
    "END;\n",
    "$$ LANGUAGE plpgsql;"
   ]
  },
  {
   "cell_type": "markdown",
   "metadata": {},
   "source": [
    "## Other SQL queries"
   ]
  },
  {
   "cell_type": "code",
   "execution_count": null,
   "metadata": {
    "vscode": {
     "languageId": "sql"
    }
   },
   "outputs": [],
   "source": [
    "SELECT \n",
    "    t.id AS task_id,\n",
    "    t.task_name,\n",
    "    COUNT(r.id) AS review_count\n",
    "FROM tasks t\n",
    "LEFT JOIN reviews r ON t.id = r.task_id\n",
    "GROUP BY t.id, t.task_name\n",
    "ORDER BY t.id;\n"
   ]
  },
  {
   "cell_type": "code",
   "execution_count": null,
   "metadata": {
    "vscode": {
     "languageId": "sql"
    }
   },
   "outputs": [],
   "source": [
    "DO $$ \n",
    "BEGIN\n",
    "    EXECUTE (\n",
    "        SELECT string_agg('DROP TABLE IF EXISTS ' || tablename || ' CASCADE;', ' ')\n",
    "        FROM pg_tables\n",
    "        WHERE schemaname = 'public'\n",
    "    );\n",
    "END $$;\n"
   ]
  }
 ],
 "metadata": {
  "language_info": {
   "name": "python"
  }
 },
 "nbformat": 4,
 "nbformat_minor": 2
}
