{
 "cells": [
  {
   "cell_type": "markdown",
   "metadata": {},
   "source": [
    "# Final Setup for Automating DfE Code Reviews\n",
    "\n",
    "> 3-Component agent"
   ]
  },
  {
   "cell_type": "markdown",
   "metadata": {},
   "source": [
    "## Tasks\n"
   ]
  },
  {
   "cell_type": "markdown",
   "metadata": {},
   "source": [
    "### Schema"
   ]
  },
  {
   "cell_type": "code",
   "execution_count": null,
   "metadata": {
    "vscode": {
     "languageId": "sql"
    }
   },
   "outputs": [],
   "source": [
    "-- Drops\n",
    "\n",
    "DROP TABLE tasks CASCADE;\n",
    "DROP TABLE model_answers CASCADE;\n",
    "\n",
    "\n",
    "-- Creates\n",
    "\n",
    "CREATE TABLE tasks (\n",
    "    id SERIAL PRIMARY KEY,\n",
    "    task_name TEXT NOT NULL,\n",
    "    task_content TEXT NOT NULL,\n",
    "    task_instructions TEXT NOT NULL\n",
    ");\n",
    "CREATE TABLE model_answers (\n",
    "    id SERIAL PRIMARY KEY,\n",
    "    task_id INT NOT NULL,\n",
    "    task_name TEXT NOT NULL,\n",
    "    file_content TEXT NOT NULL,\n",
    "    metadata JSONB,\n",
    "    FOREIGN KEY (task_id) REFERENCES tasks (id) ON DELETE CASCADE\n",
    ");\n"
   ]
  },
  {
   "cell_type": "code",
   "execution_count": null,
   "metadata": {
    "vscode": {
     "languageId": "sql"
    }
   },
   "outputs": [],
   "source": [
    "-- Drops\n",
    "\n",
    "DROP TABLE code_reviews CASCADE;\n",
    "DROP TABLE submissions CASCADE;\n",
    "\n",
    "\n",
    "-- Creates\n",
    "\n",
    "CREATE TABLE code_reviews (\n",
    "    id SERIAL PRIMARY KEY,\n",
    "    task_id INT NOT NULL,\n",
    "    review_tone FLOAT,\n",
    "    review_text TEXT NOT NULL,\n",
    "    metadata JSONB,\n",
    "    FOREIGN KEY (task_id) REFERENCES tasks (id) ON DELETE CASCADE\n",
    ");\n",
    "CREATE TABLE submissions (\n",
    "    id SERIAL PRIMARY KEY,\n",
    "    review_id INT NOT NULL,\n",
    "    file_name TEXT NOT NULL,\n",
    "    file_content TEXT NOT NULL,\n",
    "    FOREIGN KEY (review_id) REFERENCES code_reviews (id) ON DELETE CASCADE\n",
    ");\n",
    "BGE-M3"
   ]
  },
  {
   "cell_type": "markdown",
   "metadata": {},
   "source": [
    "## Vectorisers\n"
   ]
  },
  {
   "cell_type": "code",
   "execution_count": null,
   "metadata": {
    "vscode": {
     "languageId": "sql"
    }
   },
   "outputs": [],
   "source": [
    "SELECT ai.create_vectorizer(   \n",
    "    'tasks'::regclass,\n",
    "    formatting => ai.formatting_python_template(\n",
    "        'Task: $task_name\\nInstructions: $chunk'\n",
    "    ),\n",
    "    destination => 'task_instruction_embedding',\n",
    "    embedding => ai.embedding_ollama('nomic-embed-text', 768),\n",
    "    chunking => ai.chunking_recursive_character_text_splitter('task_instructions', \n",
    "        chunk_size => 512, \n",
    "        chunk_overlap => 256\n",
    "    )\n",
    ");\n",
    "SELECT ai.create_vectorizer(   \n",
    "    'model_answers'::regclass,\n",
    "    formatting => ai.formatting_python_template(\n",
    "        'Task: $task_name\\nModel answer: $chunk'\n",
    "    ),\n",
    "    embedding => ai.embedding_ollama('nomic-embed-text', 768),\n",
    "    chunking => ai.chunking_recursive_character_text_splitter('file_content', \n",
    "    chunk_size => 512,\n",
    "    chunk_overlap => 256\n",
    "    )\n",
    ");\n",
    "-- Task Instructions Vectorizer\n",
    "SELECT ai.create_vectorizer(   \n",
    "    'tasks'::regclass,\n",
    "    formatting => ai.formatting_python_template(\n",
    "        'Task: $task_name\\nContent: $chunk'\n",
    "    ),\n",
    "    destination => 'task_content_embedding',\n",
    "    embedding => ai.embedding_ollama('nomic-embed-text', 768),\n",
    "    chunking => ai.chunking_recursive_character_text_splitter('task_content', \n",
    "    chunk_size => 800, \n",
    "    chunk_overlap => 400\n",
    "    )\n",
    ");\n",
    "\n",
    "\n",
    "-- Vectoriser execute\n",
    "SELECT ai.execute_vectorizer(11);\n",
    "SELECT ai.execute_vectorizer(12);\n",
    "SELECT ai.execute_vectorizer(13);"
   ]
  },
  {
   "cell_type": "code",
   "execution_count": null,
   "metadata": {
    "vscode": {
     "languageId": "sql"
    }
   },
   "outputs": [],
   "source": [
    "CREATE OR REPLACE FUNCTION generate_rag_response_file_content(query_text TEXT)\n",
    "RETURNS TEXT AS $$\n",
    "DECLARE\n",
    "    context_chunks TEXT;\n",
    "    response TEXT;\n",
    "BEGIN\n",
    "    WITH relevant_task_answers AS (\n",
    "        SELECT \n",
    "        ma.file_content, \n",
    "        ma.chunk AS model_answer_chunk,\n",
    "        tc.task_content, \n",
    "        tc.chunk AS task_content_chunk\n",
    "        FROM \n",
    "        model_answers_embedding ma\n",
    "        JOIN\n",
    "        task_content_embeddings tc\n",
    "        ON\n",
    "        tc.id = ma.task_id\n",
    "        ORDER BY ma.embedding <=> ai.ollama_embed('nomic-embed-text', query_text)\n",
    "        LIMIT 3\n",
    "    )\n",
    "    SELECT string_agg(\n",
    "        'Task: ' || task_content_chunk || E'\\nModel Answer: ' || model_answer_chunk, \n",
    "        E'\\n\\n'\n",
    "    ) \n",
    "    INTO context_chunks\n",
    "    FROM relevant_task_answers;\n",
    "\n",
    "    SELECT ai.ollama_chat_complete(\n",
    "        'llama3',\n",
    "        jsonb_build_array(\n",
    "        jsonb_build_object('role', 'system', 'content', 'You are a helpful code reviewer. Provide accurate and concise answers based on the given context.'),\n",
    "        jsonb_build_object(\n",
    "            'role', 'user',\n",
    "            'content', query_text || E'\\n\\nUse the following context to respond:\\n' || context_chunks\n",
    "        )\n",
    "        )\n",
    "    )->'message'->>'content' INTO response;\n",
    "\n",
    "    RETURN response;\n",
    "END;\n",
    "$$ LANGUAGE plpgsql;"
   ]
  }
 ],
 "metadata": {
  "language_info": {
   "name": "python"
  }
 },
 "nbformat": 4,
 "nbformat_minor": 2
}
