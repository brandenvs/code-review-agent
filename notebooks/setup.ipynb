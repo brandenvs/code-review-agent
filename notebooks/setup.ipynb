{
 "cells": [
  {
   "cell_type": "markdown",
   "metadata": {},
   "source": [
    "## Automating Code Reviews\n"
   ]
  },
  {
   "cell_type": "markdown",
   "metadata": {},
   "source": [
    "### Schema\n"
   ]
  },
  {
   "cell_type": "code",
   "execution_count": null,
   "metadata": {
    "vscode": {
     "languageId": "shellscript"
    }
   },
   "outputs": [],
   "source": [
    "CREATE TABLE task_instructions (\n",
    "    id SERIAL PRIMARY KEY,\n",
    "    title TEXT NOT NULL,\n",
    "    compulsory_task_1 TEXT NOT NULL,\n",
    "    compulsory_task_2 TEXT NULL\n",
    ");\n",
    "\n",
    "CREATE TABLE code_solutions (\n",
    "    id SERIAL PRIMARY KEY,\n",
    "    task_instructions_id INT NOT NULL,\n",
    "    title TEXT NOT NULL,\n",
    "    code  TEXT NOT NULL,\n",
    "    FOREIGN KEY (task_instructions_id) REFERENCES task_instructions (id) ON DELETE CASCADE\n",
    ");\n",
    "\n",
    "CREATE TABLE code_reviews (\n",
    "    id SERIAL PRIMARY KEY,\n",
    "    code_solution_id INT NOT NULL,\n",
    "    title TEXT NOT NULL,\n",
    "    review_positives TEXT NOT NULL,\n",
    "    review_improvements TEXT NOT NULL,\n",
    "    review_overall TEXT NOT NULL,\n",
    "    FOREIGN KEY (code_solution_id) REFERENCES code_solutions (id) ON DELETE CASCADE\n",
    ");\n"
   ]
  },
  {
   "cell_type": "markdown",
   "metadata": {},
   "source": [
    "### Vectorisers"
   ]
  },
  {
   "cell_type": "code",
   "execution_count": null,
   "metadata": {
    "vscode": {
     "languageId": "sql"
    }
   },
   "outputs": [],
   "source": [
    "SELECT ai.create_vectorizer(\n",
    "    'task_instructions'::regclass,\n",
    "    destination => 'task_instruction_embeddings',\n",
    "    embedding => ai.embedding_ollama('nomic-embed-text', 768),\n",
    "    chunking => ai.chunking_recursive_character_text_splitter('compulsory_task_1')\n",
    ");\n",
    "\n",
    "SELECT ai.create_vectorizer(\n",
    "    'task_instructions'::regclass,\n",
    "    destination => 'task_instruction_embeddings',\n",
    "    embedding => ai.embedding_ollama('nomic-embed-text', 768),\n",
    "    chunking => ai.chunking_recursive_character_text_splitter('compulsory_task_2')\n",
    ");\n",
    "\n",
    "SELECT ai.create_vectorizer(\n",
    "    'code_solutions'::regclass,\n",
    "    destination => 'code_solution_embeddings',\n",
    "    embedding => ai.embedding_ollama('nomic-embed-text', 768),\n",
    "    chunking => ai.chunking_recursive_character_text_splitter('code')\n",
    ");\n",
    "\n",
    "SELECT ai.create_vectorizer(\n",
    "    'code_reviews'::regclass,\n",
    "    destination => 'positives_code_review_embeddings',\n",
    "    embedding => ai.embedding_ollama('nomic-embed-text', 768),\n",
    "    chunking => ai.chunking_recursive_character_text_splitter('review_positives')\n",
    ");\n",
    "\n",
    "SELECT ai.create_vectorizer(\n",
    "    'code_reviews'::regclass,\n",
    "    destination => 'improvements_code_review_embeddings',\n",
    "    embedding => ai.embedding_ollama('nomic-embed-text', 768),\n",
    "    chunking => ai.chunking_recursive_character_text_splitter('review_improvements')\n",
    ");\n",
    "\n",
    "SELECT ai.create_vectorizer(\n",
    "    'code_reviews'::regclass,\n",
    "    destination => 'overall_code_review_embeddings',\n",
    "    embedding => ai.embedding_ollama('nomic-embed-text', 768),\n",
    "    chunking => ai.chunking_recursive_character_text_splitter('review_overall')\n",
    ");\n"
   ]
  },
  {
   "cell_type": "markdown",
   "metadata": {},
   "source": [
    "### RAG Function (pgai)"
   ]
  },
  {
   "cell_type": "code",
   "execution_count": null,
   "metadata": {
    "vscode": {
     "languageId": "sql"
    }
   },
   "outputs": [],
   "source": [
    "CREATE OR REPLACE FUNCTION generate_code_review(query_code TEXT)\n",
    "RETURNS TEXT AS $$\n",
    "DECLARE\n",
    "   context_chunks TEXT;\n",
    "   response TEXT;\n",
    "BEGIN\n",
    "   -- Perform similarity search to find relevant code solutions\n",
    "   WITH relevant_solutions AS (\n",
    "       SELECT title, chunk\n",
    "       FROM code_solution_embeddings\n",
    "       ORDER BY embedding <=> ai.ollama_embed('nomic-embed-text', query_code)\n",
    "       LIMIT 3\n",
    "   ),\n",
    "   -- Perform similarity search to find relevant code reviews\n",
    "   relevant_reviews AS (\n",
    "       SELECT title, review_text AS chunk\n",
    "       FROM code_review_embeddings\n",
    "       ORDER BY embedding <=> ai.ollama_embed('nomic-embed-text', query_code)\n",
    "       LIMIT 3\n",
    "   )\n",
    "   -- Combine the results into a single context\n",
    "   SELECT string_agg(title || ': ' || chunk, E'\\n') \n",
    "   INTO context_chunks\n",
    "   FROM (\n",
    "       SELECT * FROM relevant_solutions\n",
    "       UNION ALL\n",
    "       SELECT * FROM relevant_reviews\n",
    "   ) AS combined_context;\n",
    "\n",
    "   -- Generate a review using llama3 with the combined context\n",
    "   SELECT ai.ollama_chat_complete(\n",
    "       'llama3',\n",
    "       jsonb_build_array(\n",
    "           jsonb_build_object('role', 'system', 'submission', 'You are a code mentor.'),\n",
    "           jsonb_build_object(\n",
    "               'role', 'user',\n",
    "               'submission', query_code || E'\\nUse the following context to review the code:\\n' || context_chunks\n",
    "           )\n",
    "       ),\n",
    "       host => 'http://ollama:11434'\n",
    "   ) -> 'message' ->> 'submission' INTO response;\n",
    "\n",
    "   RETURN response;\n",
    "END;\n",
    "$$ LANGUAGE plpgsql;\n"
   ]
  },
  {
   "cell_type": "code",
   "execution_count": null,
   "metadata": {
    "vscode": {
     "languageId": "sql"
    }
   },
   "outputs": [],
   "source": [
    "CREATE OR REPLACE FUNCTION generate_code_review(query_code TEXT)\n",
    "RETURNS TEXT AS $$\n",
    "DECLARE\n",
    "   context_chunks TEXT;\n",
    "   response TEXT;\n",
    "BEGIN\n",
    "   -- Perform similarity search to find relevant code solutions\n",
    "   WITH relevant_solutions AS (\n",
    "       SELECT title, chunk\n",
    "       FROM code_solution_embeddings\n",
    "       ORDER BY embedding <=> ai.ollama_embed('nomic-embed-text', query_code)\n",
    "       LIMIT 3\n",
    "   ),\n",
    "   -- Perform similarity search to find relevant code reviews\n",
    "   relevant_reviews AS (\n",
    "       SELECT title, review_text AS chunk\n",
    "       FROM code_review_embeddings\n",
    "       ORDER BY embedding <=> ai.ollama_embed('nomic-embed-text', query_code)\n",
    "       LIMIT 3\n",
    "   )\n",
    "   -- Combine the results into a single context\n",
    "   SELECT string_agg(title || ': ' || chunk, E'\\n') \n",
    "   INTO context_chunks\n",
    "   FROM (\n",
    "       SELECT * FROM relevant_solutions\n",
    "       UNION ALL\n",
    "       SELECT * FROM relevant_reviews\n",
    "   ) AS combined_context;\n",
    "\n",
    "   -- Generate a review using llama3 with the combined context\n",
    "   SELECT ai.ollama_chat_complete(\n",
    "       'llama3',\n",
    "       jsonb_build_array(\n",
    "           jsonb_build_object(\n",
    "               'role', 'system',\n",
    "               'content', 'You are an expert code mentor providing detailed, constructive code reviews. Analyze the code thoroughly, considering best practices, potential improvements, and context.'\n",
    "           ),\n",
    "           jsonb_build_object(\n",
    "               'role', 'user',\n",
    "               'content',\n",
    "               'Code to Review:\\n' || query_code ||\n",
    "               E'\\n\\nReview Context:\\n' || context_chunks ||\n",
    "               E'\\n\\nProvide a comprehensive code review that includes:\\n' ||\n",
    "               '1. Positive aspects of the code\\n' ||\n",
    "               '2. Improvement aspects of the code\\n' ||\n",
    "               '3. Best practices and design patterns\\n' ||\n",
    "               '4. Performance and efficiency considerations\\n' ||\n",
    "               '5. Suggestions for refactoring\\n' ||\n",
    "               '6. Overall summary of reviewed code'\n",
    "           )\n",
    "       ),\n",
    "       host => 'http://ollama:11434'\n",
    "   ) -> 'message' ->> 'content' INTO response;\n",
    "\n",
    "   RETURN response;\n",
    "END;\n",
    "$$ LANGUAGE plpgsql;\n"
   ]
  },
  {
   "cell_type": "markdown",
   "metadata": {},
   "source": [
    "# TEST\n"
   ]
  },
  {
   "cell_type": "code",
   "execution_count": null,
   "metadata": {
    "vscode": {
     "languageId": "sql"
    }
   },
   "outputs": [],
   "source": [
    "SELECT\n",
    "    chunk,\n",
    "    embedding <=>  ai.ollama_embed('nomic-embed-text', 'task objectives', host => 'http://ollama:11434') as distance\n",
    "FROM task_instruction_embeddings\n",
    "ORDER BY distance;"
   ]
  }
 ],
 "metadata": {
  "kernelspec": {
   "display_name": ".venv",
   "language": "python",
   "name": "python3"
  },
  "language_info": {
   "codemirror_mode": {
    "name": "ipython",
    "version": 3
   },
   "file_extension": ".py",
   "mimetype": "text/x-python",
   "name": "python",
   "nbconvert_exporter": "python",
   "pygments_lexer": "ipython3",
   "version": "3.12.4"
  }
 },
 "nbformat": 4,
 "nbformat_minor": 2
}
